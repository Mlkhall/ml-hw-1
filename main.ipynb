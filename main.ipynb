{
 "cells": [
  {
   "cell_type": "markdown",
   "id": "b054bd88",
   "metadata": {
    "id": "b054bd88"
   },
   "source": [
    "# <center> Линейная алгебра в контексте линейных методов. Практика.\n",
    "\n",
    "## <center> Прогнозирование выработки газа на скважинах."
   ]
  },
  {
   "cell_type": "markdown",
   "id": "325bc80b",
   "metadata": {
    "id": "325bc80b"
   },
   "source": [
    "## Постановка задачи"
   ]
  },
  {
   "cell_type": "markdown",
   "id": "8247bd54",
   "metadata": {
    "id": "8247bd54"
   },
   "source": [
    "У Василия, основателя компании «Газ-Таз-Ваз-Нефть», дела идут в гору: у него уже функционирует 200 скважин для добычи газа. В этом году он открывает 30 новых скважин. Однако в целях оптимизации расходов и повышения дохода Василию необходимо оценить, сколько денег будет приносить ему каждая из скважин, а также понять, какие факторы (параметры скважин) потенциально сильнее всего повлияют на объём добычи газа. Для этого Василий решил нанять вас как специалиста в области Data Science.\n",
    "\n",
    "Василий представляет вам набор данных о добыче газа на своих скважинах. Файл с данными вы можете скачать на платформе.\n",
    "\n",
    "**Признаки в данных:**\n",
    "\n",
    "* Well — идентификатор скважины;\n",
    "* Por — пористость скважины (%);\n",
    "* Perm — проницаемость скважины;\n",
    "* AI — акустический импеданс ($кг/м^2 * 10^6$);\n",
    "* Brittle — коэффициент хрупкости скважины (%);\n",
    "* TOC — общий органический углерод (%);\n",
    "* VR — коэффициент отражения витринита (%);\n",
    "* Prod — добыча газа в сутки (млн. кубических футов).\n",
    "\n",
    "**Ваша задача** — построить регрессионную модель, которая прогнозирует выработку газа на скважине (целевой признак — Prod) на основе остальных характеристик скважины, и проинтерпретировать результаты вашей модели.\n",
    "\n",
    "Разделим задачу на две части:\n",
    "* В первой мы построим простейшую модель линейной регрессии, проанализируем результаты её работы и выберем наиболее значимые факторы для прогнозирования.\n",
    "* Во второй мы займёмся построением модели полиномиальной регрессии с регуляризацией и посмотрим на итоговые результаты моделирования.\n"
   ]
  },
  {
   "cell_type": "markdown",
   "id": "d67d069e",
   "metadata": {
    "id": "d67d069e"
   },
   "source": [
    "Импортируем необходимые библиотеки:"
   ]
  },
  {
   "cell_type": "code",
   "execution_count": null,
   "id": "83a555bc-8dff-4b7e-bba1-cd4f4a9e69b2",
   "metadata": {
    "id": "83a555bc-8dff-4b7e-bba1-cd4f4a9e69b2",
    "ExecuteTime": {
     "start_time": "2024-02-22T18:40:51.869175Z"
    }
   },
   "outputs": [],
   "source": [
    "# Импорт библиотек\n",
    "import numpy as np # для работы с массивами\n",
    "import pandas as pd # для работы с DataFrame \n",
    "import seaborn as sns # библиотека для визуализации статистических данных\n",
    "import matplotlib.pyplot as plt # для построения графиков\n",
    "\n",
    "%matplotlib inline"
   ]
  },
  {
   "cell_type": "markdown",
   "id": "e689ddaf",
   "metadata": {
    "id": "e689ddaf"
   },
   "source": [
    "Прочитаем исходные данные:"
   ]
  },
  {
   "cell_type": "code",
   "execution_count": 87,
   "id": "b7b5cd9b-703f-4dbc-a6e3-61d583eafcac",
   "metadata": {
    "colab": {
     "base_uri": "https://localhost:8080/",
     "height": 206
    },
    "id": "b7b5cd9b-703f-4dbc-a6e3-61d583eafcac",
    "outputId": "d4e99a48-2a0d-4edd-f86c-617c44bf36d2",
    "ExecuteTime": {
     "end_time": "2024-02-22T18:40:54.273918Z",
     "start_time": "2024-02-22T18:40:54.261689Z"
    }
   },
   "outputs": [
    {
     "data": {
      "text/plain": "   Well    Por  Perm    AI  Brittle   TOC    VR         Prod\n0     1  12.08  2.92  2.80    81.40  1.16  2.31  4165.196191\n1     2  12.38  3.53  3.22    46.17  0.89  1.88  3561.146205\n2     3  14.02  2.59  4.01    72.80  0.89  2.72  4284.348574\n3     4  17.67  6.75  2.63    39.81  1.08  1.88  5098.680869\n4     5  17.52  4.57  3.18    10.94  1.51  1.90  3406.132832",
      "text/html": "<div>\n<style scoped>\n    .dataframe tbody tr th:only-of-type {\n        vertical-align: middle;\n    }\n\n    .dataframe tbody tr th {\n        vertical-align: top;\n    }\n\n    .dataframe thead th {\n        text-align: right;\n    }\n</style>\n<table border=\"1\" class=\"dataframe\">\n  <thead>\n    <tr style=\"text-align: right;\">\n      <th></th>\n      <th>Well</th>\n      <th>Por</th>\n      <th>Perm</th>\n      <th>AI</th>\n      <th>Brittle</th>\n      <th>TOC</th>\n      <th>VR</th>\n      <th>Prod</th>\n    </tr>\n  </thead>\n  <tbody>\n    <tr>\n      <th>0</th>\n      <td>1</td>\n      <td>12.08</td>\n      <td>2.92</td>\n      <td>2.80</td>\n      <td>81.40</td>\n      <td>1.16</td>\n      <td>2.31</td>\n      <td>4165.196191</td>\n    </tr>\n    <tr>\n      <th>1</th>\n      <td>2</td>\n      <td>12.38</td>\n      <td>3.53</td>\n      <td>3.22</td>\n      <td>46.17</td>\n      <td>0.89</td>\n      <td>1.88</td>\n      <td>3561.146205</td>\n    </tr>\n    <tr>\n      <th>2</th>\n      <td>3</td>\n      <td>14.02</td>\n      <td>2.59</td>\n      <td>4.01</td>\n      <td>72.80</td>\n      <td>0.89</td>\n      <td>2.72</td>\n      <td>4284.348574</td>\n    </tr>\n    <tr>\n      <th>3</th>\n      <td>4</td>\n      <td>17.67</td>\n      <td>6.75</td>\n      <td>2.63</td>\n      <td>39.81</td>\n      <td>1.08</td>\n      <td>1.88</td>\n      <td>5098.680869</td>\n    </tr>\n    <tr>\n      <th>4</th>\n      <td>5</td>\n      <td>17.52</td>\n      <td>4.57</td>\n      <td>3.18</td>\n      <td>10.94</td>\n      <td>1.51</td>\n      <td>1.90</td>\n      <td>3406.132832</td>\n    </tr>\n  </tbody>\n</table>\n</div>"
     },
     "execution_count": 87,
     "metadata": {},
     "output_type": "execute_result"
    }
   ],
   "source": [
    "data = pd.read_csv('data/unconv.csv')\n",
    "data.head()"
   ]
  },
  {
   "cell_type": "markdown",
   "id": "58639b40",
   "metadata": {
    "id": "58639b40"
   },
   "source": [
    "## Практика: линейная регрессия по методу наименьших квадратов"
   ]
  },
  {
   "cell_type": "markdown",
   "id": "a90535b8",
   "metadata": {
    "id": "a90535b8"
   },
   "source": [
    "Для начала построим простейшую модель линейной регрессии, проанализируем результаты её работы и выберем наиболее значимые факторы для прогнозирования.\n",
    "\n",
    "В первой части вам предстоит выполнить задания 5.0–5.6. Максимальное количество баллов, которое можно получить, — 9."
   ]
  },
  {
   "cell_type": "markdown",
   "id": "4061b706",
   "metadata": {
    "id": "4061b706"
   },
   "source": [
    "### Задание 5.0. (не оценивается)\n",
    "\n",
    "Проведите небольшой разведывательный анализ, чтобы поближе познакомиться с исходными данными. Постройте несколько визуализаций, которые помогут вам понять, как устроены исходные признаки, а также смогут продемонстрировать взаимосвязь факторов. \n",
    "\n",
    "Сделайте промежуточные выводы из проведённого разведывательного анализа."
   ]
  },
  {
   "cell_type": "code",
   "execution_count": 88,
   "id": "daf1ccc7",
   "metadata": {
    "id": "daf1ccc7",
    "ExecuteTime": {
     "end_time": "2024-02-22T18:40:58.470893Z",
     "start_time": "2024-02-22T18:40:58.464689Z"
    }
   },
   "outputs": [],
   "source": [
    "# Ваш код здесь"
   ]
  },
  {
   "cell_type": "markdown",
   "id": "d11cb44f",
   "metadata": {
    "id": "d11cb44f"
   },
   "source": [
    "### Задание 5.1. (2 балла)\n",
    "\n",
    "Постройте корреляционную матрицу факторов, включив в неё целевой признак. \n",
    "\n",
    "Для наглядности визуализируйте полученную матрицу с помощью тепловой карты. \n",
    "\n",
    "**Примечание.** *Для визуализации вы можете использовать любую из знакомых вам библиотек.*\n",
    "\n",
    "На основе построенной корреляционной матрицы ответьте на следующий вопрос:\n",
    "\n",
    "* Какие факторы сильнее всего коррелируют с целевой переменной?\n",
    "\n",
    "Вычислите ранг и определитель полученной матрицы корреляций и приведите развёрнутые ответы на следующие вопросы:\n",
    "* Является ли корреляционная матрица плохо обусловенной (близок ли её опредитель к нулю)?\n",
    "* Что вы можете сказать о наличии коллинераности/мультиколлинеарности в данных? \n",
    "* Применима ли в данном случае модель классической линейной регрессии по методу наименьших квадратов и почему? "
   ]
  },
  {
   "cell_type": "markdown",
   "source": [
    "**Критерии оценивания:**\n",
    "- Задание выполнено верно, учтены все условия (**2 балла**): \n",
    "    * приведён код для расчёта корреляционной матрицы;\n",
    "    * приведён код для визуализации корреляционной матрицы в виде тепловой карты;\n",
    "    * рассчитаны ранг и определитель корреляционной матрицы;\n",
    "    * предоставлены обоснованные ответы на все поставленные вопросы. \n",
    "\n",
    "- Задание выполнено верно, но не учтено одно условие (**1 балл**).\n",
    "- Задание выполнено неверно, не учтено несколько условий (**0 баллов**)."
   ],
   "metadata": {
    "id": "57OjUl5e2oiL"
   },
   "id": "57OjUl5e2oiL"
  },
  {
   "cell_type": "code",
   "execution_count": 89,
   "id": "af00a5a0",
   "metadata": {
    "id": "af00a5a0",
    "ExecuteTime": {
     "end_time": "2024-02-22T18:41:02.248437Z",
     "start_time": "2024-02-22T18:41:02.049158Z"
    }
   },
   "outputs": [
    {
     "data": {
      "text/plain": "<Figure size 1200x800 with 2 Axes>",
      "image/png": "[encoded data removed]"
     },
     "metadata": {},
     "output_type": "display_data"
    },
    {
     "name": "stdout",
     "output_type": "stream",
     "text": [
      "Ранг корреляционной матрицы: 8\n",
      "Определитель корреляционной матрицы: 0.0007299388072652082\n"
     ]
    }
   ],
   "source": [
    "# Вычисление корреляционной матрицы\n",
    "correlation_matrix = data.corr()\n",
    "\n",
    "# Построение тепловой карты корреляций\n",
    "plt.figure(figsize=(12, 8))\n",
    "sns.heatmap(correlation_matrix, annot=True, cmap='coolwarm', fmt=\".2f\")\n",
    "plt.title('Correlation Matrix')\n",
    "plt.show()\n",
    "\n",
    "# Преобразование корреляционной матрицы в массив NumPy\n",
    "correlation_matrix_np = correlation_matrix.to_numpy()\n",
    "\n",
    "# Ранг корреляционной матрицы\n",
    "rank = np.linalg.matrix_rank(correlation_matrix_np)\n",
    "print(\"Ранг корреляционной матрицы:\", rank)\n",
    "\n",
    "# Определитель корреляционной матрицы\n",
    "determinant = np.linalg.det(correlation_matrix_np)\n",
    "print(\"Определитель корреляционной матрицы:\", determinant)\n"
   ]
  },
  {
   "cell_type": "markdown",
   "id": "9a56013d",
   "metadata": {
    "id": "9a56013d"
   },
   "source": [
    "> Какие факторы сильнее всего коррелируют с целевой переменной?\n",
    "> С целевой переменной (Prod - добыча газа в сутки) сильнее всего коррелируют:\n",
    " >  - Por - пористость скважины (%): 0.86\n",
    " >  - Perm - проницаемость скважины: 0.73\n",
    ">\n",
    "> Является ли корреляционная матрица плохо обусловенной (близок ли её опредитель к нулю)?\n",
    " >  - Да. Корреляционная матрица является плохо обусловленной, так как ее определитель близок к нулю - 0.0007299388072652082.\n",
    ">\n",
    "> Что вы можете сказать о наличии коллинераности/мультиколлинеарности в данных? \n",
    " >  - Корреляционная матрица имеет максимальный ранг (8 признаков - ранг 8), но ее определитель практически равен 0 (матрица практически вырожденная). Следовательно, это свидетельствует о наличии мультиколлинеарности в данных. По Тепловой карте видно, что (Perm и Por) и (TOC и Por) имеют сильную связь (выше 0.7)\n",
    ">\n",
    "> Применима ли в данном случае модель классической линейной регрессии по методу наименьших квадратов и почему? \n",
    " >  - Из-за выявленной коллинеарности и плохой обусловленности корреляционной матрицы, применение классической модели линейной регрессии по методу наименьших квадратов может быть проблематичным. Коллинеарность может привести к нестабильности оценок коэффициентов и затруднить интерпретацию результатов. \n",
    "\n"
   ]
  },
  {
   "cell_type": "markdown",
   "id": "43fd91c4",
   "metadata": {
    "id": "43fd91c4"
   },
   "source": [
    "### Задание 5.2. (2 балла)\n",
    "\n",
    "Создайте матрицу наблюдений `X` и вектор правильных ответов `y`. В качестве факторов для матрицы наблюдений возьмите все имеющиеся в данных признаки. \n",
    "\n",
    "Постройте модель линейной регрессии по методу наименьших квадратов. Для этого воспользуйтесь матричной формулой МНК и инструментарием библиотеки numpy. \n",
    "\n",
    "Выведите на экран полученные оценки коэффициентов модели, округлённые до целого.\n",
    "\n",
    "Приведите подробные выводы по полученным результатам, ответив на следующие вопросы:\n",
    "* Есть ли в ваших данных признаки, которые, согласно модели, можно назвать неинформативными, то есть они не оказывают влияния на целевую переменную или оказывают шумовое влияние?\n",
    "* Приведите интерпретацию нескольких (двух или трёх) коэффициентов полученной модели линейной регрессии.\n"
   ]
  },
  {
   "cell_type": "markdown",
   "source": [
    "**Критерии оценивания:**\n",
    "- Задание выполнено верно, учтены все условия (**2 балла**): \n",
    "    * приведён код для нахождения параметров модели линейной регрессии с помощью матричной формулы МНК;\n",
    "    * на основе полученных параметров даны верные ответы на поставленные вопросы;\n",
    "    * приведена корректная интерпретация нескольких коэффициентов полученной модели линейной регрессии.\n",
    "\n",
    "- Задание выполнено верно, но не учтено одно из условий (**1 балл**).\n",
    "- Задание выполнено неверно, не учтено несколько условий (**0 баллов**)."
   ],
   "metadata": {
    "id": "QtNtTUzI4Cpq"
   },
   "id": "QtNtTUzI4Cpq"
  },
  {
   "cell_type": "code",
   "execution_count": 90,
   "id": "5724288c",
   "metadata": {
    "id": "5724288c",
    "ExecuteTime": {
     "end_time": "2024-02-22T18:41:07.883588Z",
     "start_time": "2024-02-22T18:41:07.867455Z"
    }
   },
   "outputs": [
    {
     "name": "stdout",
     "output_type": "stream",
     "text": [
      "Полученные оценки коэффициентов модели, округлённые до целого [-1232     0   230   116  -365    25   -78   785]\n"
     ]
    }
   ],
   "source": [
    "# Матрица наблюдений\n",
    "X = data.drop('Prod', axis=1).values\n",
    "\n",
    "# Вектор правильных ответов\n",
    "y = data['Prod'].values\n",
    "\n",
    "# Добавляем столбец с единицами для учета свободного члена в модели\n",
    "X = np.column_stack((np.ones(X.shape[0]), X))\n",
    "\n",
    "# Вычислим оценку вектора коэффициентов \n",
    "beta = np.linalg.inv(X.T @ X) @ X.T @ y\n",
    "\n",
    "# Выводим оценки коэффициентов, округленные до целого\n",
    "print(\"Полученные оценки коэффициентов модели, округлённые до целого\", np.round(beta).astype(int))\n"
   ]
  },
  {
   "cell_type": "markdown",
   "id": "bab9ee21",
   "metadata": {
    "id": "bab9ee21"
   },
   "source": [
    "> Есть ли в ваших данных признаки, которые, согласно модели, можно назвать неинформативными, то есть они не оказывают влияния на целевую переменную или оказывают шумовое влияние?\n",
    ">  - Да, есть. Признак с коэффициентом 0. Этот признак не оказывает влияния на целевую переменную. Таким образом, признак \"Well\" не оказывает никакого влияния на целевую переменную\n",
    "> \n",
    "> Приведите интерпретацию нескольких (двух или трёх) коэффициентов полученной модели линейной регрессии.\n",
    "> - AI с коэффициентом -365: увеличение акустический импеданса приводит к уменьшению добычи газа в сутки (отрицательное влияние на целевую переменную)\n",
    "> - Por с коэффициентом 230: увеличение коэффициента пористости скважины приводит к увеличению добычи газа в сутки (положительное влияние на целевую переменную)\n",
    "\n"
   ]
  },
  {
   "cell_type": "markdown",
   "id": "4a05a4ac",
   "metadata": {
    "id": "4a05a4ac"
   },
   "source": [
    "### Задание 5.3. (1 балл)\n",
    "\n",
    "Теперь потренируемся строить предсказание для наблюдений целевой переменной. \n",
    "\n",
    "**а)** Постройте прогноз выработки газа для скважины со следующими параметрами:\n",
    "\n",
    "```python\n",
    "{\n",
    "    'Well': 106.0,\n",
    "    'Por': 15.32,\n",
    "    'Perm': 3.71,\n",
    "    'AI': 3.29,\n",
    "    'Brittle': 55.99,\n",
    "    'TOC': 1.35,\n",
    "    'VR': 2.42\n",
    " }\n",
    "```\n",
    "\n",
    "Рассчитайте абсолютную ошибку построенного вами прогноза для предложенной скважины (в миллионах кубических футов в день), если известно, что на этой скважине производится `4748.315024` миллионов кубических футов газа в день. \n",
    "\n",
    "**б)** Постройте прогноз выработки газа для всех скважин из обучающего набора данных. Выберите метрику, по которой вы будете оценивать качество регрессионных моделей и сравнивать их между собой (можно использовать несколько метрик, но не более двух).\n",
    "\n",
    "Рассчитайте значение выбранной метрики для вашей модели. Приведите интерпретацию полученного результата. "
   ]
  },
  {
   "cell_type": "markdown",
   "source": [
    "**Критерии оценивания:**\n",
    "- Задание выполнено верно, учтены все условия (**1 балл**): \n",
    "    * приведён код для построения прогноза выработки газа на указанной скважине и рассчитана абсолютная ошибка прогноза для этой скважины;\n",
    "    * выбрана корректная для поставленной задачи метрика (или метрики) оценки качества модели и приведён код для расчёта этой метрики на всём обучающем наборе данных;\n",
    "    * приведена корректная интерпретация полученного результата.\n",
    "\n",
    "- Задание выполнено верно, но не учтено одно из условий, или задание выполнено неверно (**0 баллов**)."
   ],
   "metadata": {
    "id": "qUDcep5Q5GWU"
   },
   "id": "qUDcep5Q5GWU"
  },
  {
   "cell_type": "code",
   "execution_count": 91,
   "id": "e4291db0",
   "metadata": {
    "id": "e4291db0",
    "ExecuteTime": {
     "end_time": "2024-02-22T18:41:11.451504Z",
     "start_time": "2024-02-22T18:41:11.442456Z"
    }
   },
   "outputs": [
    {
     "name": "stdout",
     "output_type": "stream",
     "text": [
      "w_hat: [-1.23230803e+03  5.07003631e-02  2.30179140e+02  1.16239006e+02\n",
      " -3.65202301e+02  2.49943700e+01 -7.84009294e+01  7.85259815e+02]\n",
      "Прогноз добычи газа для новой скважины (prediction): 4723.064053707235 млн. куб. футов в день\n",
      "Абсолютная ошибка прогноза: 25.250970292765487 млн. куб. футов в день\n",
      "R^2 score: 0.9598506365675629\n",
      "RMSE: 198.28020612321944\n"
     ]
    }
   ],
   "source": [
    "from sklearn.linear_model import LinearRegression\n",
    "from sklearn.metrics import mean_squared_error, r2_score\n",
    "\n",
    "new_data = {\n",
    "    'Well': 106.0,\n",
    "    'Por': 15.32,\n",
    "    'Perm': 3.71,\n",
    "    'AI': 3.29,\n",
    "    'Brittle': 55.99,\n",
    "    'TOC': 1.35,\n",
    "    'VR': 2.42\n",
    " }\n",
    "Well, Por, Perm, AI, Brittle, TOC, VR = [value for value in new_data.values()]\n",
    "new = pd.DataFrame([[1, Well, Por, Perm, AI, Brittle, TOC, VR]])\n",
    "\n",
    "\n",
    "# создаём модель линейной регрессии\n",
    "model = LinearRegression(fit_intercept=False)\n",
    "\n",
    "# вычисляем коэффициенты регрессии\n",
    "model.fit(X, y)\n",
    "\n",
    "w_hat = model.coef_\n",
    "print('w_hat:', w_hat)\n",
    "\n",
    "# Вычисляем прогноз добычи газа\n",
    "prediction = model.predict(new)\n",
    "print(f'Прогноз добычи газа для новой скважины (prediction): {prediction[0]} млн. куб. футов в день')\n",
    "\n",
    "# Вычисление абсолютной ошибки\n",
    "valid_value = 4748.315024\n",
    "\n",
    "absolute_error = abs(valid_value - prediction[0])\n",
    "print(f'Абсолютная ошибка прогноза: {absolute_error} млн. куб. футов в день')\n",
    "\n",
    "# Прогноз для всех скважин\n",
    "predictions_all_wells = np.dot(X, w_hat)\n",
    "# Вычисление RMSE, MSE, R^2 score\n",
    "mse = mean_squared_error(y, predictions_all_wells)\n",
    "r2 = r2_score(y, predictions_all_wells)\n",
    "rmse = np.sqrt(mse)\n",
    "\n",
    "print(\"R^2 score:\", r2)\n",
    "print(\"RMSE:\", rmse)\n"
   ]
  },
  {
   "cell_type": "markdown",
   "id": "c9bee4bc",
   "metadata": {
    "id": "c9bee4bc"
   },
   "source": [
    "> Исходя из полученных результатов, можно сделать вывод, что модель хорошо справляется с прогнозированием целевой переменной, так как RMSE низкий, а R^2 score близок к 1."
   ]
  },
  {
   "cell_type": "markdown",
   "id": "0c25c3aa",
   "metadata": {
    "id": "0c25c3aa"
   },
   "source": [
    "### Задание 5.4. (1 балл)\n",
    "\n",
    "Настало время анализа построенной модели. Посмотрите на коэффициенты и сравните их знаки со значениями выборочных корреляций между целевым признаком и факторами, которые вы нашли ранее.\n",
    "\n",
    "Дайте развёрнутые ответы на следующие вопросы:\n",
    "\n",
    "* Есть ли в вашей модели фактор, при котором коэффициент в модели линейной регрессии противоречит соответствующему коэффициенту корреляции? Например, корреляция говорит, что зависимость между фактором и целевой переменной прямая, а модель говорит обратное. Если таких факторов несколько, укажите их все.\n",
    "* Как вы считаете, с чем связано полученное противоречие результатов?"
   ]
  },
  {
   "cell_type": "markdown",
   "source": [
    "**Критерии оценивания:**\n",
    "\n",
    "- Задание выполнено верно, даны корректные развёрнутые ответы на все поставленные в задании вопросы (**1 балл**). \n",
    "\n",
    "- Задание выполнено неверно, даны некорректные ответы на один или несколько поставленных в задании вопросов (**0 баллов**)."
   ],
   "metadata": {
    "id": "ngJ3UdYb6Ll6"
   },
   "id": "ngJ3UdYb6Ll6"
  },
  {
   "cell_type": "code",
   "source": [
    "# Ваш код здесь"
   ],
   "metadata": {
    "id": "v-zIxRPY9wK7",
    "ExecuteTime": {
     "end_time": "2024-02-22T18:41:21.551258Z",
     "start_time": "2024-02-22T18:41:21.533762Z"
    }
   },
   "id": "v-zIxRPY9wK7",
   "execution_count": 92,
   "outputs": []
  },
  {
   "cell_type": "markdown",
   "source": [
    "> Посмотрим на коэффициенты модели линейной регрессии и сравним их со значениями выборочных корреляций:\n",
    ">\n",
    "> 1. Фактор Well (идентификатор скважины):\n",
    ">   - Коэффициент в модели: 0\n",
    ">   - Корреляция: Положительная\n",
    ">   - Соответствие: Соответствует\n",
    ">\n",
    "> 2. Фактор Por (пористость скважины):\n",
    ">  - Коэффициент в модели: 230\n",
    ">   - Корреляция: Положительная\n",
    ">   - Соответствие: Соответствует\n",
    ">\n",
    "> 3. Фактор Prem (проницаемость скважины):\n",
    ">   - Коэффициент в модели: 116\n",
    ">   - Корреляция: Положительная\n",
    ">   - Соответствие: Соответствует\n",
    ">\n",
    "> 4. Фактор AI (акустический импеданс):\n",
    ">   - Коэффициент в модели: -365\n",
    ">   - Корреляция: Отрицательная\n",
    ">   - Соответствие: Соответствует\n",
    ">\n",
    "> 5. Фактор Brittle (коэффициент хрупкости скважины):\n",
    ">   - Коэффициент в модели: 25\n",
    ">   - Корреляция: Положительная\n",
    ">   - Соответствие: Соответствует\n",
    ">\n",
    "> 6. Фактор TOC (общий органический углерод):\n",
    ">   - Коэффициент в модели: -78\n",
    ">   - Корреляция: Положительная\n",
    ">   - Соответствие: Не соответствует\n",
    ">\n",
    "> 7. Фактор VR (коэффициент отражения витринита):\n",
    ">   - Коэффициент в модели: 785\n",
    ">   - Корреляция: Положительная\n",
    ">   - Соответствие: Соответствует\n",
    ">   \n",
    ">Коэффициент в модели линейной регрессии для TOC составляет -78, что говорит о том, что увеличение значения TOC на единицу снижает значение целевой переменной. Однако, корреляция для TOC положительная, что указывает на прямую связь между TOC и целевой переменной.\n",
    "> Это противоречие результатов может быть обусловлено наличием мультиколлинеарности в данных. По Тепловой карте из задания 5.1 видно, что (Perm и Por) и (TOC и Por) имеют сильную связь (выше 0.7)\n"
   ],
   "metadata": {
    "id": "qeowwIp99yBf"
   },
   "id": "qeowwIp99yBf"
  },
  {
   "cell_type": "markdown",
   "id": "9cea9195",
   "metadata": {
    "id": "9cea9195"
   },
   "source": [
    "### Задание 5.5. (2 балла)\n",
    "\n",
    "* Исключите из данных сильно коррелированные между собой факторы. Под сильной корреляцией в данной задаче будем понимать значения выше `0.7`.\n",
    "\n",
    "Выбирая, какой из коррелированных факторов оставить, руководствуйтесь коэффициентом корреляции с целевой переменной: оставляйте тот фактор, который больше всего коррелирует с целевой переменной (объёмом добычи газа).\n",
    "\n",
    "* Также исключите из данных факторы, для которых корреляция с целевой переменной меньше `0.05`.\n",
    "\n",
    "Постройте модель линейной регрессии на обновлённых после удаления факторов данных по методу наименьших квадратов. Для этого используйте матричную формулу и библиотеку numpy. Выведите значение полученных коэффициентов, округлённых до целого.\n",
    "\n",
    "Сделайте прогноз для всего обучающего набора данных и рассчитайте выбранную вами ранее метрику (или метрики). \n",
    "\n",
    "Дайте подробные ответы на следующие вопросы:\n",
    "\n",
    "* Приведите интерпретацию нескольких полученных коэффициентов (двух или трёх). Сравните их значения с полученными ранее.\n",
    "* Приведите интерпретацию полученных значений метрик. Сравните их значения с полученными ранее. \n",
    "* Удалось ли вам побороть противоречие коэффициентов линейной регрессии и коэффициентов корреляции?"
   ]
  },
  {
   "cell_type": "markdown",
   "source": [
    "**Критерии оценивания:**\n",
    "- Задание выполнено верно, учтены все условия (**2 балла**): \n",
    "    * отобраны верные факторы;\n",
    "    * на основе отобранных факторов построена модель линейной регрессии с помощью матричной формулы МНК и найдены параметры модели, соответствующие каждому из факторов;\n",
    "    * построен прогноз для всего обучающего набора данных и рассчитано значение метрики (метрика должна быть выбрана корректно);\n",
    "    * даны ответы на все поставленные в задании вопросы.\n",
    "\n",
    "- Задание выполнено верно, но не учтено одно из условий (**1 балл**).\n",
    "- Задание выполнено верно, не учтено несколько из условий (**0 баллов**)."
   ],
   "metadata": {
    "id": "vlUYVjJP6oXN"
   },
   "id": "vlUYVjJP6oXN"
  },
  {
   "cell_type": "code",
   "source": [
    "# Матрица наблюдений\n",
    "X_ = data.drop(columns=[\"Prod\", \"Well\", \"TOC\", \"Perm\"], axis=1).values\n",
    "# Вектор правильных ответов\n",
    "y_ = data['Prod'].values\n",
    "\n",
    "# Добавляем столбец с единицами для учета свободного члена в модели\n",
    "X_ = np.column_stack((np.ones(X.shape[0]), X_))\n",
    "\n",
    "# Вычислим оценку вектора коэффициентов \n",
    "w_hat_ = np.linalg.inv(X_.T @ X_) @ X_.T @ y_\n",
    "\n",
    "# Вычислим прогноз\n",
    "y_pred = X_ @ w_hat_\n",
    "\n",
    "\n",
    "\n",
    "# Выводим оценки коэффициентов, округленные до целого\n",
    "print(\"Полученные оценки коэффициентов модели, округлённые до целого\", np.round(w_hat_).astype(int))\n",
    "\n",
    "# Рассчитываем метрики\n",
    "r2 = r2_score(y_, y_pred)\n",
    "rmse = np.sqrt(mean_squared_error(y_, y_pred))\n",
    "\n",
    "print(f\"R^2: {r2:.4f}\")\n",
    "print(f\"RMSE: {rmse:.2f}\")\n"
   ],
   "metadata": {
    "id": "5d5ZJ0lX_UHe",
    "ExecuteTime": {
     "end_time": "2024-02-22T18:41:26.441249Z",
     "start_time": "2024-02-22T18:41:26.429401Z"
    }
   },
   "id": "5d5ZJ0lX_UHe",
   "execution_count": 93,
   "outputs": [
    {
     "name": "stdout",
     "output_type": "stream",
     "text": [
      "Полученные оценки коэффициентов модели, округлённые до целого [-1835   293  -200    28   517]\n",
      "R^2: 0.9452\n",
      "RMSE: 231.65\n"
     ]
    }
   ]
  },
  {
   "cell_type": "markdown",
   "source": [
    "> Приведите интерпретацию нескольких полученных коэффициентов (двух или трёх). Сравните их значения с полученными ранее.\n",
    ">\n",
    "> 1. Фактор Por (пористость скважины):\n",
    ">  - Коэффициент в модели: 293\n",
    ">   - Корреляция: Положительная\n",
    ">   - Соответствие: Соответствует\n",
    ">\n",
    "> 2. Фактор AI (акустический импеданс):\n",
    ">   - Коэффициент в модели: -200\n",
    ">   - Корреляция: Отрицательная\n",
    ">   - Соответствие: Соответствует\n",
    ">\n",
    "> 3. Фактор Brittle (коэффициент хрупкости скважины):\n",
    ">   - Коэффициент в модели: 28\n",
    ">   - Корреляция: Положительная\n",
    ">   - Соответствие: Соответствует\n",
    ">\n",
    "> 4. Фактор VR (коэффициент отражения витринита):\n",
    ">   - Коэффициент в модели: 517\n",
    ">   - Корреляция: Положительная\n",
    ">   - Соответствие: Соответствует\n",
    ">   \n",
    "> Приведите интерпретацию полученных значений метрик. Сравните их значения с полученными ранее. \n",
    "> \n",
    "> R2  score (коэффициент детерминации) показывает долю вариации зависимой переменной (добычи газа), объяснённую моделью. Первоначальное значение было 0.9598, что указывало на очень высокую точность модели. После изменений значение уменьшилось до 0.9452, что все еще является высоким показателем\n",
    "> RMSE (Root Mean Square Error) или корень из среднеквадратичной ошибки показывает среднее отклонение прогнозов от фактических значений. Изначально было 198.28, а после изменений стало 231.65. Это указывает на то, что точность прогнозов модели снизилась после изменений.\n",
    "> Исключение из данных сильно коррелированных между собой факторов привело к некоторому снижению точности модели по обеим метрикам (R^2 и RMSE). Тем не менее, полученная модель все еще демонстрирует высокую степень объяснения вариации добычи газа \n",
    "> \n",
    "> Удалось ли вам побороть противоречие коэффициентов линейной регрессии и коэффициентов корреляции?\n",
    "> Да, удалось"
   ],
   "metadata": {
    "id": "KxbYvMDo_WLe"
   },
   "id": "KxbYvMDo_WLe"
  },
  {
   "cell_type": "markdown",
   "id": "7d50db12",
   "metadata": {
    "id": "7d50db12"
   },
   "source": [
    "### Задание 5.6. (1 балл)\n",
    "\n",
    "Наконец, давайте построим модель линейной регрессии из библиотеки `scikit-learn (sklearn)` и сравним результаты её работы с теми, что нам удалось получить вручную. \n",
    "\n",
    "Постройте модель линейной регрессии на обновлённых после удаления факторов данных по методу наименьших квадратов. Для этого воспользуйтесь классом `LinearRegression` из библиотеки `sklearn`. Выведите значения полученных коэффициентов, округлённые до целого.\n",
    "\n",
    "Сделайте прогноз для всего обучающего набора данных и рассчитайте значение выбранной вами метрики (или метрик).\n",
    "\n",
    "Сравните результаты библиотечной реализации с тем, что вы получили ранее. "
   ]
  },
  {
   "cell_type": "markdown",
   "source": [
    "**Критерии оценивания:**\n",
    "\n",
    "- Задание выполнено верно, учтены все условия (**1 балл**): \n",
    "    * на основе отобранных факторов построена модель линейной регрессии из библиотеки sklearn и найдены параметры модели, соответствующие каждому из факторов;\n",
    "    * построен прогноз для всего обучающего набора данных и рассчитано значение метрики (метрика должна быть выбрана корректно);\n",
    "    * приведён вывод о соответствии результатов, полученных вручную и с помощью библиотеки.\n",
    "- Задание выполнено неверно, не учтено одно или несколько условий (**0 баллов**)."
   ],
   "metadata": {
    "id": "emu5D3w278JP"
   },
   "id": "emu5D3w278JP"
  },
  {
   "cell_type": "code",
   "source": [
    "# Выводим оценки коэффициентов, округленные до целого\n",
    "print(\"Полученные оценки коэффициентов модели, округлённые до целого\", np.round(w_hat_).astype(int))\n",
    "\n",
    "# Создание и обучение модели линейной регрессии\n",
    "model = LinearRegression()\n",
    "model.fit(X_, y_)\n",
    "\n",
    "# Сделать прогноз для всего обучающего набора данных\n",
    "y_pred_ = model.predict(X_)\n",
    "\n",
    "# Рассчитать R2 score\n",
    "r2 = r2_score(y_, y_pred_)\n",
    "\n",
    "# Рассчитать RMSE\n",
    "rmse = np.sqrt(mean_squared_error(y_, y_pred_))\n",
    "\n",
    "print(\"R2 score:\", r2)\n",
    "print(\"RMSE:\", rmse)"
   ],
   "metadata": {
    "id": "Gpdpfq59AKGu",
    "ExecuteTime": {
     "end_time": "2024-02-22T18:41:52.913019Z",
     "start_time": "2024-02-22T18:41:52.906109Z"
    }
   },
   "id": "Gpdpfq59AKGu",
   "execution_count": 94,
   "outputs": [
    {
     "name": "stdout",
     "output_type": "stream",
     "text": [
      "Полученные оценки коэффициентов модели, округлённые до целого [-1835   293  -200    28   517]\n",
      "R2 score: 0.9452003827311295\n",
      "RMSE: 231.64812664736863\n"
     ]
    }
   ]
  },
  {
   "cell_type": "markdown",
   "source": [
    "> Получили те же результаты, что и ранее в задании 5.5, потому что обучение происходило на одних и тех же данных. Результаты  ручного расчета соответствуют результатам, полученным с использованием библиотеки."
   ],
   "metadata": {
    "id": "WT9cdHAbAMG7"
   },
   "id": "WT9cdHAbAMG7"
  },
  {
   "cell_type": "markdown",
   "id": "5346338e",
   "metadata": {
    "id": "5346338e"
   },
   "source": [
    "## Практика: полиномиальная регрессия и регуляризация"
   ]
  },
  {
   "cell_type": "markdown",
   "id": "aad9e3a6",
   "metadata": {
    "id": "aad9e3a6"
   },
   "source": [
    "Мы продолжаем работать над задачей от владельца компании «Газ-Таз-Ваз-Нефть» Василия.\n",
    "\n",
    "Ранее мы построили модель линейной регрессии, которая прогнозирует выработку газа на скважине. Для этого мы с помощью матрицы корреляций и рассуждений отобрали некоррелированные, значимые для предсказания признаки. **Далее мы будем использовать именно их (см. задание 5.5).**\n",
    "\n",
    "Мы хотим улучшить результат — уменьшить ошибку прогноза. Для этого мы воспользуемся моделью полиномиальной регрессии третьей степени. Однако теперь мы знаем, что полиномиальным моделям очень легко переобучиться под исходную выборку. Так как данных у нас не так много (всего 200 скважин), то для контроля качества модели мы будем использовать кросс-валидацию. \n",
    "\n",
    "Приступим! Выполните задания 8.1–8.5:\n"
   ]
  },
  {
   "cell_type": "code",
   "execution_count": 95,
   "id": "18506d1b",
   "metadata": {
    "id": "18506d1b",
    "ExecuteTime": {
     "end_time": "2024-02-22T18:42:03.781282Z",
     "start_time": "2024-02-22T18:42:03.772612Z"
    }
   },
   "outputs": [],
   "source": [
    "from sklearn.preprocessing import PolynomialFeatures, StandardScaler\n",
    "from sklearn.linear_model import LinearRegression, Lasso, Ridge, ElasticNet\n",
    "from sklearn.model_selection import GridSearchCV\n",
    "from sklearn.model_selection import cross_validate"
   ]
  },
  {
   "cell_type": "markdown",
   "id": "bfbfea8d",
   "metadata": {
    "id": "bfbfea8d"
   },
   "source": [
    "### Задание 8.1. (1 балл)\n",
    "\n",
    "Стандаризируйте признаки с помощью `StandartScaler` из библиотеки `sklearn`. \n",
    "\n",
    "Затем сгенерируйте полиномиальные признаки третьего порядка на факторах, которые вы выбрали для обучения моделей. Для этого воспользуйтесь генератором полиномов `PolynomialFeatures` из библиотеки `sklearn`. Параметр `include_bias` установите в значение `False`.\n",
    "\n",
    "Выведите на экран, сколько факторов у вас получилось после генерации полиномиальных признаков.\n",
    "\n",
    "**Важно:** стандартизацию необходимо произвести до генерации полиномиальных факторов!\n",
    "\n",
    "Обучите модель линейной регрессии из библиотеки `sklearn` (`LinearRegression`) на полученных полиномиальных факторах.\n",
    "\n",
    "Используя кросс-валидацию оцените среднее значение выбранной вами метрики (или метрик) на тренировочных и валидационных фолдах.\n",
    "\n",
    "Проинтерпретируйте полученные результаты."
   ]
  },
  {
   "cell_type": "markdown",
   "source": [
    "**Критерии оценивания:**\n",
    "\n",
    "- Задание выполнено верно, учтены все условия (**1 балл**): \n",
    "    * на основе отобранных факторов сгенерированы полиномиальные признаки третьего порядка;\n",
    "    * построена модель полиномиальной регрессии (линейной регрессии на полиномиальных признаках);\n",
    "    * с помощью кросс-валидации оценено среднее значение выбранной студентом метрики (или метрик) на тренировочных и валидационных фолдах (метрика должна быть выбрана корректно).\n",
    "- Задание выполнено неверно, не учтено одно или несколько из условий (**0 баллов**)."
   ],
   "metadata": {
    "id": "Y8oAhQkr8gV-"
   },
   "id": "Y8oAhQkr8gV-"
  },
  {
   "cell_type": "code",
   "source": [
    "from sklearn.model_selection import cross_val_score\n",
    "from sklearn.metrics import mean_squared_error, r2_score\n",
    "\n",
    "# инициализируем стандартизатор StandardScaler\n",
    "scaler = StandardScaler()\n",
    "# подгоняем параметры стандартизатора (вычисляем среднее и СКО)\n",
    "X_st = scaler.fit_transform(X_)\n",
    "\n",
    "# добавляем полиномиальные признаки\n",
    "poly = PolynomialFeatures(degree=3, include_bias=False)\n",
    "X_poly = poly.fit_transform(X_st)\n",
    "\n",
    "# Выводим количество признаков\n",
    "print(\"Количество факторов (признаков) после генерации полиномиальных признаков:\", X_poly.shape[1])\n",
    "\n",
    "# создаём модель линейной регрессии\n",
    "lr = LinearRegression().fit(X_poly, y_)\n",
    "\n",
    "\n",
    "\n",
    "# оцениваем качество модели на кросс-валидации, метрика — MSE\n",
    "cv_results = cross_validate(lr, X_poly, y_, scoring=\"neg_mean_squared_error\", cv=5, return_train_score=True)\n",
    "\n",
    "# Вывод результатов MSE\n",
    "print(f\"Среднее значение MSE на тренировочных фолдах: {-cv_results['train_score'].mean()}\")\n",
    "print(f\"Среднее значение MSE на валидационных фолдах: {-cv_results['test_score'].mean()}\")\n",
    "\n",
    "\n",
    "# оцениваем качество модели на кросс-валидации, метрика — MSE\n",
    "cv_results = cross_validate(lr, X_poly, y_, scoring=\"r2\", cv=5, return_train_score=True)\n",
    "print(f\"Среднее значение R^2 на тренировочных фолдах: {cv_results['train_score'].mean()}\")\n",
    "print(f\"Среднее значение R^2 на валидационных фолдах: {cv_results['test_score'].mean()}\")\n",
    "\n",
    "cv_results = cross_validate(lr, X_poly, y_, scoring='neg_mean_absolute_percentage_error', cv=5, return_train_score=True)\n",
    "print('MAPE на тренировочных фолдах: {:.2f} %'.format(-cv_results['train_score'].mean()* 100))\n",
    "print('MAPE на валидационных фолдах: {:.2f} %'.format(-cv_results['test_score'].mean() * 100))\t"
   ],
   "metadata": {
    "id": "-ln3bx8NFNRw",
    "ExecuteTime": {
     "end_time": "2024-02-22T18:42:52.800526Z",
     "start_time": "2024-02-22T18:42:52.717912Z"
    }
   },
   "id": "-ln3bx8NFNRw",
   "execution_count": 96,
   "outputs": [
    {
     "name": "stdout",
     "output_type": "stream",
     "text": [
      "Количество факторов (признаков) после генерации полиномиальных признаков: 55\n",
      "Среднее значение MSE на тренировочных фолдах: 155724.40801238324\n",
      "Среднее значение MSE на валидационных фолдах: 447339.7883704159\n",
      "Среднее значение R^2 на тренировочных фолдах: 0.8415913103028702\n",
      "Среднее значение R^2 на валидационных фолдах: 0.5267076773705088\n",
      "MAPE на тренировочных фолдах: 6.52 %\n",
      "MAPE на валидационных фолдах: 7.70 %\n"
     ]
    }
   ]
  },
  {
   "cell_type": "markdown",
   "source": [
    "> *Ваши выводы здесь*"
   ],
   "metadata": {
    "id": "9DkuuLLtFPPy"
   },
   "id": "9DkuuLLtFPPy"
  },
  {
   "cell_type": "markdown",
   "id": "63d06013",
   "metadata": {
    "id": "63d06013"
   },
   "source": [
    "### Задание 8.2. (2 балла)\n",
    "\n",
    "Теперь попробуем воспользоваться линейной регрессией с регуляризацией. Для начала возьмём $L_1$-регуляризацию.\n",
    "\n",
    "Обучите модель `Lasso` из библиотеки `sklearn` на полученных полиномиальных факторах, предварительно стандартизировав факторы. \n",
    "\n",
    "Коэффициент регуляризации (`alpha`) подберите самостоятельно с помощью любого известного вам метода подбора гиперпаметров.\n",
    "\n",
    "Используя кросс-валидацию, оцените среднее значение выбранной вами метрики (или метрик) на тренировочных и валидационных фолдах.\n",
    "\n",
    "Проинтерпретируйте полученные результаты."
   ]
  },
  {
   "cell_type": "markdown",
   "source": [
    "**Критерии оценивания:**\n",
    "\n",
    "- Задание выполнено верно, учтены все условия (**2 балла**): \n",
    "    * правильно построена модель полиномиальной регрессии (линейной регрессии на полиномиальных признаках) с регуляризацией (Lasso), учтены условия необходимости масштабирования факторов для построения модели;\n",
    "    * приведён код для подбора параметра регуляризации (вручную или с помощью библиотечных инструментов);\n",
    "    * с помощью кросс-валидации оценено среднее значение выбранной студентом метрики (или метрик) на тренировочных и валидационных фолдах (метрика должна быть выбрана корректно).\n",
    "\n",
    "- Задание выполнено верно, но не учтено одно из условий (**1 балл**).\n",
    "- Задание выполнено неверно, не учтено несколько условий (**0 баллов**)."
   ],
   "metadata": {
    "id": "z24YUfuA9rUq"
   },
   "id": "z24YUfuA9rUq"
  },
  {
   "cell_type": "code",
   "source": [
    "from sklearn.linear_model import Lasso\n",
    "\n",
    "# инициализируем стандартизатор StandardScaler\n",
    "scaler = StandardScaler()\n",
    "# подгоняем параметры стандартизатора (вычисляем среднее и СКО)\n",
    "X_st = scaler.fit_transform(X_)\n",
    "\n",
    "# добавляем полиномиальные признаки\n",
    "poly = PolynomialFeatures(degree=3, include_bias=False)\n",
    "X_poly = poly.fit_transform(X_st)\n",
    "\n",
    "# создаём модель линейной регрессии c L1-регуляризацией\n",
    "lasso = Lasso(alpha=0.1, max_iter=10000)\n",
    "\n",
    "# оцениваем качество модели на кросс-валидации, метрика — MSE\n",
    "cv_results = cross_validate(lasso, X_poly, y_, scoring=\"neg_mean_squared_error\", cv=5, return_train_score=True)\n",
    "\n",
    "# Вывод результатов MSE\n",
    "print(f\"Среднее значение MSE на тренировочных фолдах: {-cv_results['train_score'].mean()}\")\n",
    "print(f\"Среднее значение MSE на валидационных фолдах: {-cv_results['test_score'].mean()}\")\n",
    "\n",
    "\n",
    "# оцениваем качество модели на кросс-валидации, метрика — MSE\n",
    "cv_results = cross_validate(lasso, X_poly, y_, scoring=\"r2\", cv=5, return_train_score=True)\n",
    "print(f\"Среднее значение R^2 на тренировочных фолдах: {cv_results['train_score'].mean()}\")\n",
    "print(f\"Среднее значение R^2 на валидационных фолдах: {cv_results['test_score'].mean()}\")\n",
    "\n",
    "cv_results = cross_validate(lasso, X_poly, y_, scoring='neg_mean_absolute_percentage_error', cv=5, return_train_score=True)\n",
    "print('MAPE на тренировочных фолдах: {:.2f} %'.format(-cv_results['train_score'].mean()* 100))\n",
    "print('MAPE на валидационных фолдах: {:.2f} %'.format(-cv_results['test_score'].mean() * 100))\t\n"
   ],
   "metadata": {
    "id": "IJ5b5G8qFz-r",
    "ExecuteTime": {
     "end_time": "2024-02-22T18:43:21.078822Z",
     "start_time": "2024-02-22T18:43:20.934707Z"
    }
   },
   "id": "IJ5b5G8qFz-r",
   "execution_count": 99,
   "outputs": [
    {
     "name": "stdout",
     "output_type": "stream",
     "text": [
      "Среднее значение MSE на тренировочных фолдах: 10172.190777889973\n",
      "Среднее значение MSE на валидационных фолдах: 23662.365731866368\n",
      "Среднее значение R^2 на тренировочных фолдах: 0.9896080959699536\n",
      "Среднее значение R^2 на валидационных фолдах: 0.9754106444870336\n",
      "MAPE на тренировочных фолдах: 1.77 %\n",
      "MAPE на валидационных фолдах: 2.64 %\n"
     ]
    }
   ]
  },
  {
   "cell_type": "markdown",
   "source": [
    "> *Ваши выводы здесь*"
   ],
   "metadata": {
    "id": "Se0OGR8UF2Td"
   },
   "id": "Se0OGR8UF2Td"
  },
  {
   "cell_type": "markdown",
   "id": "2975ae60",
   "metadata": {
    "id": "2975ae60"
   },
   "source": [
    "### Задание 8.3. (2 балла)\n",
    "\n",
    "Проделаем то же самое с $L_2$-регуляризацией.\n",
    "\n",
    "Обучите модель `Ridge` из библиотеки `sklearn` на полученных полиномиальных факторах, предварительно стандартизировав факторы. \n",
    "\n",
    "Коэффициент регуляризации (`alpha`) подберите самостоятельно с помощью любого известного вам метода подбора гиперпаметров.\n",
    "\n",
    "Используя кросс-валидацию оцените среднее значение выбранной вами метрики (или метрик) на тренировочных и валидационных фолдах.\n",
    "\n",
    "Проинтерпретируйте полученные результаты."
   ]
  },
  {
   "cell_type": "code",
   "source": [
    "from sklearn.linear_model import Ridge\n",
    "\n",
    "scaler = StandardScaler()\n",
    "# подгоняем параметры стандартизатора (вычисляем среднее и СКО)\n",
    "X_st = scaler.fit_transform(X_)\n",
    "# добавляем полиномиальные признаки\n",
    "poly = PolynomialFeatures(degree=3, include_bias=False)\n",
    "X_poly = poly.fit_transform(X_st)\n",
    "# создаём модель линейной регрессии c L2-регуляризацией\n",
    "ridge = Ridge(alpha=20, solver='svd')\n",
    "\n",
    "# оцениваем качество модели на кросс-валидации, метрика — MSE\n",
    "cv_results = cross_validate(ridge, X_poly, y_, scoring=\"neg_mean_squared_error\", cv=5, return_train_score=True)\n",
    "\n",
    "# Вывод результатов MSE\n",
    "print(f\"Среднее значение MSE на тренировочных фолдах: {-cv_results['train_score'].mean()}\")\n",
    "print(f\"Среднее значение MSE на валидационных фолдах: {-cv_results['test_score'].mean()}\")\n",
    "\n",
    "\n",
    "# оцениваем качество модели на кросс-валидации, метрика — MSE\n",
    "cv_results = cross_validate(ridge, X_poly, y_, scoring=\"r2\", cv=5, return_train_score=True)\n",
    "print(f\"Среднее значение R^2 на тренировочных фолдах: {cv_results['train_score'].mean()}\")\n",
    "print(f\"Среднее значение R^2 на валидационных фолдах: {cv_results['test_score'].mean()}\")\n",
    "\n",
    "cv_results = cross_validate(ridge, X_poly, y_, scoring='neg_mean_absolute_percentage_error', cv=5, return_train_score=True)\n",
    "print('MAPE на тренировочных фолдах: {:.2f} %'.format(-cv_results['train_score'].mean()* 100))\n",
    "print('MAPE на валидационных фолдах: {:.2f} %'.format(-cv_results['test_score'].mean() * 100))\t\n",
    "\n"
   ],
   "metadata": {
    "id": "UfPGyNsjGGS8",
    "ExecuteTime": {
     "end_time": "2024-02-22T18:43:30.851941Z",
     "start_time": "2024-02-22T18:43:30.756297Z"
    }
   },
   "id": "UfPGyNsjGGS8",
   "execution_count": 100,
   "outputs": [
    {
     "name": "stdout",
     "output_type": "stream",
     "text": [
      "Среднее значение MSE на тренировочных фолдах: 36901.323158117084\n",
      "Среднее значение MSE на валидационных фолдах: 63866.590151220924\n",
      "Среднее значение R^2 на тренировочных фолдах: 0.96229524929796\n",
      "Среднее значение R^2 на валидационных фолдах: 0.9363678929454856\n",
      "MAPE на тренировочных фолдах: 3.70 %\n",
      "MAPE на валидационных фолдах: 4.75 %\n"
     ]
    }
   ]
  },
  {
   "cell_type": "markdown",
   "source": [
    "> *Ваши выводы здесь*"
   ],
   "metadata": {
    "id": "dQBd7ny_GIi1"
   },
   "id": "dQBd7ny_GIi1"
  },
  {
   "cell_type": "markdown",
   "source": [
    "**Критерии оценивания:**\n",
    "\n",
    "- Задание выполнено верно, учтены все условия (**2 балла**): \n",
    "    * правильно построена модель полиномиальной регрессии (линейной регрессии на полиномиальных признаках) с регуляризацией (Ridge), учтены условия необходимости масштабирования факторов для построения модели;\n",
    "    * приведён код для подбора параметра регуляризации (вручную или с помощью библиотечных инструментов);\n",
    "    * с помощью кросс-валидации оценено среднее значение выбранной студентом метрики (или метрик) на тренировочных и валидационных фолдах (метрика должна быть выбрана корректно).\n",
    "\n",
    "- Задание выполнено верно, но не учтено одно из условий (**1 балл**).\n",
    "- Задание выполнено неверно, не учтено несколько условий (**0 баллов**)."
   ],
   "metadata": {
    "id": "86pXnWE7-5ch"
   },
   "id": "86pXnWE7-5ch"
  },
  {
   "cell_type": "markdown",
   "id": "7ad85b78",
   "metadata": {
    "id": "7ad85b78"
   },
   "source": [
    "### Задание 8.4. (2 балла)\n",
    "\n",
    "Наконец, настало время комбинировать $L_1$ и $L_2$ -регуляризации.\n",
    "\n",
    "Обучите модель `ElasticNet` из библиотеки `sklearn` на полученных полиномиальных факторах, предварительно стандартизировав факторы. \n",
    "\n",
    "Коэффициенты регуляризации (`alpha` и `l1-ratio`) подберите самостоятельно с помощью любого известного вам метода подбора гиперпаметров.\n",
    "\n",
    "Используя кросс-валидацию, оцените среднее значение метрики MAPE на тренировочных и валидационных фолдах.\n",
    "\n",
    "Проинтерпретируйте полученные результаты."
   ]
  },
  {
   "cell_type": "markdown",
   "source": [
    "**Критерии оценивания:**\n",
    "\n",
    "- Задание выполнено верно, учтены все условия (**2 балла**): \n",
    "    * правильно построена модель полиномиальной регрессии (линейной регрессии на полиномиальных признаках) с регуляризацией (ElasticNet), учтены условия необходимости масштабирования факторов для построения модели;\n",
    "    * приведён код для подбора параметра регуляризации (вручную или с помощью библиотечных инструментов);\n",
    "    * с помощью кросс-валидации оценено среднее значение выбранной студентом метрики (или метрик) на тренировочных и валидационных фолдах (метрика должна быть выбрана корректно).\n",
    "\n",
    "- Задание выполнено верно, но не учтено одно из условий (**1 балл**).\n",
    "- Задание выполнено неверно, не учтено несколько условий (**0 баллов**)."
   ],
   "metadata": {
    "id": "sy8ESceQ-__u"
   },
   "id": "sy8ESceQ-__u"
  },
  {
   "cell_type": "code",
   "source": [
    "# подгоняем параметры стандартизатора (вычисляем среднее и СКО)\n",
    "X = scaler.fit_transform(X)\n",
    "# добавляем полиномиальные признаки\n",
    "poly = PolynomialFeatures(degree=3, include_bias=False)\n",
    "X = poly.fit_transform(X)\n",
    "# создаём модель линейной регрессии c L1- и L2-регуляризациями\n",
    "lasso = ElasticNet(alpha=2, l1_ratio=0.5, max_iter=10000)\n",
    "\n",
    "# оцениваем качество модели на кросс-валидации, метрика — MSE\n",
    "cv_results = cross_validate(lasso, X_poly, y_, scoring=\"neg_mean_squared_error\", cv=5, return_train_score=True)\n",
    "\n",
    "# Вывод результатов MSE\n",
    "print(f\"Среднее значение MSE на тренировочных фолдах: {-cv_results['train_score'].mean()}\")\n",
    "print(f\"Среднее значение MSE на валидационных фолдах: {-cv_results['test_score'].mean()}\")\n",
    "\n",
    "\n",
    "# оцениваем качество модели на кросс-валидации, метрика — MSE\n",
    "cv_results = cross_validate(lasso, X_poly, y_, scoring=\"r2\", cv=5, return_train_score=True)\n",
    "print(f\"Среднее значение R^2 на тренировочных фолдах: {cv_results['train_score'].mean()}\")\n",
    "print(f\"Среднее значение R^2 на валидационных фолдах: {cv_results['test_score'].mean()}\")\n",
    "\n",
    "cv_results = cross_validate(lasso, X_poly, y_, scoring='neg_mean_absolute_percentage_error', cv=5, return_train_score=True)\n",
    "print('MAPE на тренировочных фолдах: {:.2f} %'.format(-cv_results['train_score'].mean()* 100))\n",
    "print('MAPE на валидационных фолдах: {:.2f} %'.format(-cv_results['test_score'].mean() * 100))\t"
   ],
   "metadata": {
    "id": "-Yi3P20hQnLS",
    "ExecuteTime": {
     "end_time": "2024-02-22T18:43:37.160870Z",
     "start_time": "2024-02-22T18:43:37.117987Z"
    }
   },
   "id": "-Yi3P20hQnLS",
   "execution_count": 101,
   "outputs": [
    {
     "name": "stdout",
     "output_type": "stream",
     "text": [
      "Среднее значение MSE на тренировочных фолдах: 150060.4977709711\n",
      "Среднее значение MSE на валидационных фолдах: 208180.7798338284\n",
      "Среднее значение R^2 на тренировочных фолдах: 0.8466467000664732\n",
      "Среднее значение R^2 на валидационных фолдах: 0.7868502903823732\n",
      "MAPE на тренировочных фолдах: 7.69 %\n",
      "MAPE на валидационных фолдах: 8.90 %\n"
     ]
    }
   ]
  },
  {
   "cell_type": "markdown",
   "source": [
    "> *Ваши выводы здесь*"
   ],
   "metadata": {
    "id": "er2lAiE9QpAb"
   },
   "id": "er2lAiE9QpAb"
  },
  {
   "cell_type": "markdown",
   "id": "91c6e1d1",
   "metadata": {
    "id": "91c6e1d1"
   },
   "source": [
    "### Задание 8.5. (1 балл)\n",
    "\n",
    "Завершением вашей работы будет сводная таблица результатов, которую вы представите на презентации заказчику Василию.\n",
    "\n",
    "Составьте таблицу (DataFrame) со следующими столбцами (имена столбцов выберите самостоятельно):\n",
    "* Наименование модели.\n",
    "* Гиперпараметры (коэффициенты регуляризации, если таковые имеются), если нет — оставьте ячейку пустой.\n",
    "* Использовались ли полиномиальные признаки при построении модели (Да/Нет или True/False).\n",
    "* Значение выбранной метрики на тренировочных фолдах при кросс-валидации модели.\n",
    "* Значение выбранной метрики на валидационных фолдах при кросс-валидации модели.\n",
    "\n",
    "Сделайте финальный вывод по проделанной работе. Какая линейная модель из тех, что мы рассмотрели, показала наилучший результат с точки зрения качества на валидационных фолдах, а также с точки зрения переобученности?"
   ]
  },
  {
   "cell_type": "markdown",
   "source": [
    "**Критерии оценивания:**\n",
    "\n",
    "- Задание выполнено верно, учтены все условия (**1 балл**): \n",
    "    * верно составлена сводная таблица итоговых результатов построенных ранее моделей с указанными в задании столбцами;\n",
    "    * приведены итоговые выводы по проделанной работе, указано, какая из рассмотренных моделей показала наилучший результат.\n",
    "\n",
    "- Задание выполнено неверно, не учтено одно или несколько условий (**0 баллов**)."
   ],
   "metadata": {
    "id": "OsFRaKkF_nLq"
   },
   "id": "OsFRaKkF_nLq"
  },
  {
   "cell_type": "code",
   "source": [
    "# Ваш код здесь"
   ],
   "metadata": {
    "id": "wRiys8lKQuqW"
   },
   "id": "wRiys8lKQuqW",
   "execution_count": null,
   "outputs": []
  },
  {
   "cell_type": "markdown",
   "source": [
    "> *Ваши выводы здесь*"
   ],
   "metadata": {
    "id": "UP7_LSoEQsrA"
   },
   "id": "UP7_LSoEQsrA"
  },
  {
   "cell_type": "code",
   "execution_count": null,
   "id": "752d4445-6a85-4cfb-b520-7b7b0f9a5b20",
   "metadata": {
    "id": "752d4445-6a85-4cfb-b520-7b7b0f9a5b20"
   },
   "outputs": [],
   "source": []
  }
 ],
 "metadata": {
  "kernelspec": {
   "display_name": "Python 3.10.8 ('base')",
   "language": "python",
   "name": "python3"
  },
  "language_info": {
   "codemirror_mode": {
    "name": "ipython",
    "version": 3
   },
   "file_extension": ".py",
   "mimetype": "text/x-python",
   "name": "python",
   "nbconvert_exporter": "python",
   "pygments_lexer": "ipython3",
   "version": "3.10.8"
  },
  "vscode": {
   "interpreter": {
    "hash": "86c56a74836ad344b00594bf6f38fa6a676a207ceefe20d101fbc465800ccb8d"
   }
  },
  "colab": {
   "provenance": []
  }
 },
 "nbformat": 4,
 "nbformat_minor": 5
}
